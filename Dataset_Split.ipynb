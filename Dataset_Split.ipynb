{
 "cells": [
  {
   "cell_type": "code",
   "execution_count": 1,
   "metadata": {},
   "outputs": [],
   "source": [
    "import torch\n",
    "import numpy as np\n",
    "import os\n",
    "import utils.tools\n",
    "from torchvision import transforms\n",
    "from PIL import Image\n",
    "from tqdm import tqdm\n",
    "\n",
    "import random"
   ]
  },
  {
   "cell_type": "code",
   "execution_count": 2,
   "metadata": {},
   "outputs": [],
   "source": [
    "datapath = os.path.join(\"..\",\"image_hashing_data\", \"imagenet\")\n",
    "filepath = os.path.join(\"..\",\"image_hashing_data\", \"imagenet\", \"train.txt\")\n",
    "\n",
    "Writepath_new_set = os.path.join(\"..\",\"image_hashing_data\", \"imagenet\", \"new_train.txt\")\n",
    "Writepath_pool = os.path.join(\"..\",\"image_hashing_data\", \"imagenet\", \"pool.txt\")"
   ]
  },
  {
   "cell_type": "code",
   "execution_count": 3,
   "metadata": {},
   "outputs": [],
   "source": [
    "imgs = [(val.split()[0], np.array([int(la) for la in val.split()[1:]])) for val in open(filepath).readlines()]\n",
    "labels = [np.where(i[1] == 1)[0][0] for i in imgs]\n",
    "training_set_path = open(filepath).readlines()"
   ]
  },
  {
   "cell_type": "code",
   "execution_count": 4,
   "metadata": {},
   "outputs": [],
   "source": [
    "total_num_cls = 100\n",
    "num_sample_per_cls = 2\n",
    "\n",
    "index_class = []\n",
    "[index_class.append([]) for i in range(total_num_cls)]\n",
    "for idx, i in enumerate(imgs):\n",
    "    index_class[labels[idx]].append(idx)\n",
    "\n",
    "Sample_idx = []\n",
    "[Sample_idx.append(random.sample(i, num_sample_per_cls)) for i in index_class]\n",
    "Sample_idx = np.array(Sample_idx).reshape(-1)\n",
    "\n",
    "Pool_idx = list(set(range(len(imgs))).difference(Sample_idx))\n",
    "\n",
    "sample_img = []\n",
    "[sample_img.append(training_set_path[i]) for i in Sample_idx]\n",
    "\n",
    "Pool_img = []\n",
    "[Pool_img.append(training_set_path[i]) for i in Pool_idx]\n",
    "\n",
    "with open(Writepath_new_set, 'w') as f:\n",
    "    [f.writelines(i) for i in (sample_img)]\n",
    "\n",
    "with open(Writepath_pool, 'w') as f:\n",
    "    [f.writelines(i) for i in (Pool_img)]"
   ]
  },
  {
   "cell_type": "code",
   "execution_count": null,
   "metadata": {},
   "outputs": [],
   "source": []
  }
 ],
 "metadata": {
  "kernelspec": {
   "display_name": "Python 3 (ipykernel)",
   "language": "python",
   "name": "python3"
  },
  "language_info": {
   "codemirror_mode": {
    "name": "ipython",
    "version": 3
   },
   "file_extension": ".py",
   "mimetype": "text/x-python",
   "name": "python",
   "nbconvert_exporter": "python",
   "pygments_lexer": "ipython3",
   "version": "3.7.16 (default, Jan 17 2023, 16:06:28) [MSC v.1916 64 bit (AMD64)]"
  },
  "vscode": {
   "interpreter": {
    "hash": "38ba78956d25f5747261e0dae67b5a713a49d541fe1a1f75578514e2d68567b6"
   }
  }
 },
 "nbformat": 4,
 "nbformat_minor": 2
}
